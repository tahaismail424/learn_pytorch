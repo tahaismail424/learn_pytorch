{
 "cells": [
  {
   "cell_type": "code",
   "execution_count": 2,
   "id": "e22edb2d-9419-4d9b-88e8-9cc0a7cb8198",
   "metadata": {},
   "outputs": [
    {
     "name": "stdout",
     "output_type": "stream",
     "text": [
      "Hello I'm excited to learn PyTorch!\n"
     ]
    }
   ],
   "source": [
    "print(\"Hello I'm excited to learn PyTorch!\")"
   ]
  },
  {
   "cell_type": "code",
   "execution_count": 7,
   "id": "00479399-7ccb-45dc-90af-ee7ad8dbba59",
   "metadata": {},
   "outputs": [
    {
     "name": "stdout",
     "output_type": "stream",
     "text": [
      "2.5.0\n"
     ]
    }
   ],
   "source": [
    "import torch\n",
    "import pandas as pd\n",
    "import numpy as np\n",
    "import matplotlib.pyplot as plt\n",
    "print(torch.__version__)"
   ]
  },
  {
   "cell_type": "code",
   "execution_count": null,
   "id": "efdfdbc7-cb1a-4ab3-800a-20572c142682",
   "metadata": {},
   "outputs": [],
   "source": []
  }
 ],
 "metadata": {
  "kernelspec": {
   "display_name": "Python 3 (learn_pytorch)",
   "language": "python",
   "name": "learn_pytorch"
  },
  "language_info": {
   "codemirror_mode": {
    "name": "ipython",
    "version": 3
   },
   "file_extension": ".py",
   "mimetype": "text/x-python",
   "name": "python",
   "nbconvert_exporter": "python",
   "pygments_lexer": "ipython3",
   "version": "3.10.15"
  }
 },
 "nbformat": 4,
 "nbformat_minor": 5
}
